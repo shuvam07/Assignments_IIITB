{
  "cells": [
    {
      "metadata": {
        "_uuid": "8f2839f25d086af736a60e9eeb907d3b93b6e0e5",
        "_cell_guid": "b1076dfc-b9ad-4769-8c92-a6c4dae69d19",
        "trusted": true
      },
      "cell_type": "code",
      "source": "# This Python 3 environment comes with many helpful analytics libraries installed\n# It is defined by the kaggle/python docker image: https://github.com/kaggle/docker-python\n# For example, here's several helpful packages to load in \n\nimport numpy as np # linear algebra\nimport pandas as pd # data processing, CSV file I/O (e.g. pd.read_csv)\n\n# Input data files are available in the \"../input/\" directory.\n# For example, running this (by clicking run or pressing Shift+Enter) will list the files in the input directory\n\nimport os\nprint(os.listdir(\"../input\"))\n\n# Any results you write to the current directory are saved as output.",
      "execution_count": null,
      "outputs": []
    },
    {
      "metadata": {
        "_cell_guid": "79c7e3d0-c299-4dcb-8224-4455121ee9b0",
        "_uuid": "d629ff2d2480ee46fbb7e2d37f6b5fab8052498a",
        "trusted": true
      },
      "cell_type": "code",
      "source": "import numpy as np\nimport pandas as pd\n\nfrom sklearn import preprocessing\nfrom sklearn.feature_extraction import DictVectorizer\n\nimport xgboost as xgb\nfrom sklearn.ensemble import RandomForestRegressor\nfrom sklearn.ensemble import ExtraTreesRegressor\nfrom sklearn import linear_model\n\nfrom sklearn.feature_extraction.text import TfidfTransformer\n\nfrom sklearn.model_selection import KFold\nfrom sklearn.metrics import mean_squared_error",
      "execution_count": null,
      "outputs": []
    },
    {
      "metadata": {
        "trusted": true,
        "_uuid": "5a26a1d4f9de686b2cb518991db8594631e6ac99"
      },
      "cell_type": "code",
      "source": "train = pd.read_csv(\"../input/train.csv\")\ntest = pd.read_csv(\"../input/test.csv\")\nsubmission = pd.read_csv(\"../input/submission.csv\")\nprint (train.shape, test.shape)",
      "execution_count": null,
      "outputs": []
    },
    {
      "metadata": {
        "trusted": true,
        "_uuid": "b9d3d3f4e5c95ace26f2af009f5a62d43e929393"
      },
      "cell_type": "code",
      "source": "test.head()",
      "execution_count": null,
      "outputs": []
    },
    {
      "metadata": {
        "trusted": true,
        "_uuid": "2d1e2b566d2ccd1552130b54e3fc5ac65a1d5425"
      },
      "cell_type": "code",
      "source": "submission.User_ID = test.User_ID\nsubmission.Product_ID = test.Product_ID",
      "execution_count": null,
      "outputs": []
    },
    {
      "metadata": {
        "trusted": true,
        "_uuid": "1ba38c376edc03a14b8af2f7e616f88caa53838c"
      },
      "cell_type": "code",
      "source": "submission.head()",
      "execution_count": null,
      "outputs": []
    },
    {
      "metadata": {
        "trusted": true,
        "_uuid": "ca167b32f7e5fe284b3eb9c1c48fe23035dad36c"
      },
      "cell_type": "code",
      "source": "frames = [train, test]\ninput = pd.concat(frames,sort='False')\n\nprint (input.shape)\ninput.head()",
      "execution_count": null,
      "outputs": []
    },
    {
      "metadata": {
        "trusted": true,
        "_uuid": "7f791f5686348717f201cf1c2cb9b7c04ea944c8"
      },
      "cell_type": "code",
      "source": "input.fillna(999, inplace=True)",
      "execution_count": null,
      "outputs": []
    },
    {
      "metadata": {
        "trusted": true,
        "_uuid": "db8475e639da0281b248147162b0e68cb26b8426"
      },
      "cell_type": "code",
      "source": "input.head()",
      "execution_count": null,
      "outputs": []
    },
    {
      "metadata": {
        "trusted": true,
        "_uuid": "7d9e5f90e5c23358f0973f9be8014ffc70ac5eec"
      },
      "cell_type": "code",
      "source": "target = input.Purchase",
      "execution_count": null,
      "outputs": []
    },
    {
      "metadata": {
        "trusted": true,
        "_uuid": "2d603abaa11c4b10222829487193f088d199e983"
      },
      "cell_type": "code",
      "source": "target = np.array(target)",
      "execution_count": null,
      "outputs": []
    },
    {
      "metadata": {
        "trusted": true,
        "_uuid": "bc62c86930d6fae707bd326664ae60686825c2fa"
      },
      "cell_type": "code",
      "source": "input.drop([\"Purchase\"], axis=1, inplace=True)",
      "execution_count": null,
      "outputs": []
    },
    {
      "metadata": {
        "trusted": true,
        "_uuid": "a60edb861b5b46806be6650b5f6dfcf7a482d496"
      },
      "cell_type": "code",
      "source": "input = input.applymap(str)\ninput.dtypes",
      "execution_count": null,
      "outputs": []
    },
    {
      "metadata": {
        "trusted": true,
        "_uuid": "c7b06aeb419b57644549db5d784764f309152f89"
      },
      "cell_type": "code",
      "source": "input_pd = input.copy()",
      "execution_count": null,
      "outputs": []
    },
    {
      "metadata": {
        "trusted": true,
        "_uuid": "ede30d4577178007d16404875191d7e0d0a56c36"
      },
      "cell_type": "code",
      "source": "input = np.array(input)\n\nfor i in range(input.shape[1]):\n    lbl = preprocessing.LabelEncoder()\n    lbl.fit(list(input[:,i]))\n    input[:, i] = lbl.transform(input[:, i])",
      "execution_count": null,
      "outputs": []
    },
    {
      "metadata": {
        "trusted": true,
        "_uuid": "5b72016a1a8657f91bf6a8bc6e616ff873589f92"
      },
      "cell_type": "code",
      "source": "input = input.astype(int)",
      "execution_count": null,
      "outputs": []
    },
    {
      "metadata": {
        "trusted": true,
        "_uuid": "3c0dccac53f79ee2f64d5373a0104b6e704c685d"
      },
      "cell_type": "code",
      "source": "params = {}\nparams[\"min_child_weight\"] = 10\nparams[\"subsample\"] = 0.7\nparams[\"colsample_bytree\"] = 0.7\nparams[\"scale_pos_weight\"] = 0.8\nparams[\"silent\"] = 1\nparams[\"max_depth\"] = 6\nparams[\"nthread\"] = 6\n#params[\"gamma\"] = 1\nparams[\"objective\"] = \"reg:linear\"\nparams[\"eta\"] = 0.1\nparams[\"base_score\"] = 1800\nparams[\"eval_metric\"] = \"rmse\"\nparams[\"seed\"] = 0\n\nplst = list(params.items())\nnum_rounds = 3000",
      "execution_count": null,
      "outputs": []
    },
    {
      "metadata": {
        "trusted": true,
        "_uuid": "0256a8b53e7d566a6ea4658e76181e8d9e2616b6"
      },
      "cell_type": "code",
      "source": "# xgtrain = xgb.DMatrix(input[:train.shape[0],:], label=target[:train.shape[0]])\n# watchlist = [(xgtrain, 'train')]\n# model_1_xgboost = xgb.train(plst, xgtrain, num_rounds)",
      "execution_count": null,
      "outputs": []
    },
    {
      "metadata": {
        "trusted": true,
        "_uuid": "ab490bf00b082384ace174b83d654226c665982a"
      },
      "cell_type": "code",
      "source": "model_1_predict = model_1_xgboost.predict(xgb.DMatrix(input[train.shape[0]:,:]))\nmodel_1_predict[model_1_predict<0] = 25",
      "execution_count": null,
      "outputs": []
    },
    {
      "metadata": {
        "trusted": true,
        "_uuid": "17d69ccb4c66a0d997beb27a53e1fd8566cac27f"
      },
      "cell_type": "code",
      "source": "submission.Purchase = model_1_predict\nsubmission.to_csv(\"submit.csv\", index=False)",
      "execution_count": null,
      "outputs": []
    },
    {
      "metadata": {
        "trusted": true,
        "_uuid": "20f3020e69b9ae36301fd52da2ba38db1f49f632"
      },
      "cell_type": "code",
      "source": "from sklearn import datasets, linear_model\nfrom sklearn.model_selection import train_test_split\nfrom matplotlib import pyplot as plt\nfrom sklearn.model_selection import cross_val_score, cross_val_predict\nfrom sklearn import metrics",
      "execution_count": null,
      "outputs": []
    },
    {
      "metadata": {
        "trusted": true,
        "_uuid": "c8cf044e16a3bcb687e1b7a3d367cb1006068a4f"
      },
      "cell_type": "code",
      "source": "lr=LinearRegression()",
      "execution_count": null,
      "outputs": []
    },
    {
      "metadata": {
        "trusted": true,
        "_uuid": "11a72f579ac4be703976e11463954c50473ef806"
      },
      "cell_type": "code",
      "source": "lr_trainX=input[:train.shape[0],:]",
      "execution_count": null,
      "outputs": []
    },
    {
      "metadata": {
        "trusted": true,
        "_uuid": "6f88d26143f5e582f0247069e14de37ff2620567"
      },
      "cell_type": "code",
      "source": "lr_trainY=target[:train.shape[0]].reshape(-1,1)",
      "execution_count": null,
      "outputs": []
    },
    {
      "metadata": {
        "trusted": true,
        "_uuid": "9d3222a24710b8e38fd1c6fc7aa62b114886003d"
      },
      "cell_type": "code",
      "source": "X_train, X_test, Y_train, Y_test = train_test_split(lr_trainX, lr_trainY, test_size=0.3)",
      "execution_count": null,
      "outputs": []
    },
    {
      "metadata": {
        "trusted": true,
        "_uuid": "9c49301006182fddd23dc18f43ddcb5314a5e702"
      },
      "cell_type": "code",
      "source": "model=lr.fit(X_train,Y_train)",
      "execution_count": null,
      "outputs": []
    },
    {
      "metadata": {
        "trusted": true,
        "_uuid": "5c1185e46d5f9f63e540a24af5293d0f40d681c8"
      },
      "cell_type": "code",
      "source": "model.coef_",
      "execution_count": null,
      "outputs": []
    },
    {
      "metadata": {
        "trusted": true,
        "_uuid": "e28fe682aa816d5cc57d6e54d08a775b9482c424"
      },
      "cell_type": "code",
      "source": "scores = cross_val_score(model, X_train, Y_train, cv=6)",
      "execution_count": null,
      "outputs": []
    },
    {
      "metadata": {
        "trusted": true,
        "_uuid": "72eb8e32fdb3e5e56a09decb0cefe2d2795cbe9f"
      },
      "cell_type": "code",
      "source": "print (\"Cross-validated scores:\", scores)",
      "execution_count": null,
      "outputs": []
    },
    {
      "metadata": {
        "trusted": true,
        "_uuid": "9df721ad6073e716e72a70fb77d2c600fcd1b256"
      },
      "cell_type": "code",
      "source": "predictions = cross_val_predict(model, X_test, Y_test, cv=6)",
      "execution_count": null,
      "outputs": []
    },
    {
      "metadata": {
        "trusted": true,
        "_uuid": "00764d3daf6ff043613c8f0cf50c56876c8ff14c"
      },
      "cell_type": "code",
      "source": "predictions",
      "execution_count": null,
      "outputs": []
    },
    {
      "metadata": {
        "trusted": true,
        "_uuid": "1080629f09694ef574319f4f9610ed1535bcebdf"
      },
      "cell_type": "code",
      "source": "accuracy = metrics.r2_score(Y_test, predictions)\nprint (\"Cross-Predicted Accuracy:\", accuracy)\n# Cross-Predicted Accuracy: 0.490806583864",
      "execution_count": null,
      "outputs": []
    },
    {
      "metadata": {
        "trusted": true,
        "_uuid": "77b5c4b37c661e22ebfee3f8514d31910f6fef1f"
      },
      "cell_type": "code",
      "source": "lr_test=(input[train.shape[0]:,:])",
      "execution_count": null,
      "outputs": []
    },
    {
      "metadata": {
        "trusted": true,
        "_uuid": "1e456a8248bd6567443b629f4ec042bc75b9a0f3"
      },
      "cell_type": "code",
      "source": "lr_test.shape",
      "execution_count": null,
      "outputs": []
    },
    {
      "metadata": {
        "trusted": true,
        "_uuid": "79321fa37e476abd044d6567c6ba0c0a2d612130"
      },
      "cell_type": "code",
      "source": "predictions = model.predict(lr_test)",
      "execution_count": null,
      "outputs": []
    },
    {
      "metadata": {
        "trusted": true,
        "_uuid": "f1904ffbbfadc8f984be36ad9f76ccc7b2944e8b"
      },
      "cell_type": "code",
      "source": "predictions",
      "execution_count": null,
      "outputs": []
    },
    {
      "metadata": {
        "trusted": true,
        "_uuid": "b35c6971d1e8deabfd29ba5d0d931e710d4b60c8"
      },
      "cell_type": "code",
      "source": "submission.Purchase=predictions\nsubmission.to_csv(\"submit_lr.csv\", index=False)",
      "execution_count": null,
      "outputs": []
    },
    {
      "metadata": {
        "trusted": true,
        "_uuid": "0d2bb3a85dfe1bea240f705fde2be321fd35a771"
      },
      "cell_type": "code",
      "source": "lasso = linear_model.Lasso(alpha=0.1)",
      "execution_count": null,
      "outputs": []
    },
    {
      "metadata": {
        "trusted": true,
        "_uuid": "ae4e42dd05ea16f4d4391e3e7d6298fc99569bbd"
      },
      "cell_type": "code",
      "source": "model=lasso.fit(X_train,Y_train)",
      "execution_count": null,
      "outputs": []
    },
    {
      "metadata": {
        "trusted": true,
        "_uuid": "39e033c04bd47fde1e5806b54e10ed5939032157"
      },
      "cell_type": "code",
      "source": "scores = cross_val_score(model, X_train, Y_train, cv=6)",
      "execution_count": null,
      "outputs": []
    },
    {
      "metadata": {
        "trusted": true,
        "_uuid": "9afc1d38863d8f7d6451a0ccec661fbba67b75fe"
      },
      "cell_type": "code",
      "source": "print(scores)",
      "execution_count": null,
      "outputs": []
    },
    {
      "metadata": {
        "trusted": true,
        "_uuid": "7e1fce58961c5893a1dfff0e99d841afb62f10a3"
      },
      "cell_type": "code",
      "source": "predictions = cross_val_predict(model, X_test, Y_test, cv=6)",
      "execution_count": null,
      "outputs": []
    },
    {
      "metadata": {
        "trusted": true,
        "_uuid": "58b647c344ea76143fbae2c01a8c5f1c08b7aa7e"
      },
      "cell_type": "code",
      "source": "accuracy = metrics.r2_score(Y_test, predictions)\nprint (\"Cross-Predicted Accuracy:\", accuracy)",
      "execution_count": null,
      "outputs": []
    },
    {
      "metadata": {
        "trusted": true,
        "_uuid": "9a23fa3ccb83b200a9e01efafda522e44ec640d2"
      },
      "cell_type": "code",
      "source": "predictions = model.predict(lr_test)\nprint(predictions)",
      "execution_count": null,
      "outputs": []
    },
    {
      "metadata": {
        "trusted": true,
        "_uuid": "9fdd34d54e026d8ecc59e47273456115b2af23d1"
      },
      "cell_type": "code",
      "source": "submission.Purchase=predictions\nsubmission.to_csv(\"submit_lasso.csv\", index=False)",
      "execution_count": null,
      "outputs": []
    },
    {
      "metadata": {
        "trusted": true,
        "_uuid": "25680a6e540a34643dd6b203ae1281aa89454693"
      },
      "cell_type": "code",
      "source": "from sklearn.tree import DecisionTreeRegressor",
      "execution_count": null,
      "outputs": []
    },
    {
      "metadata": {
        "trusted": true,
        "_uuid": "2fbcc51e36330816ac60c4a2115f5cd167c7c5fc"
      },
      "cell_type": "code",
      "source": "regressor = DecisionTreeRegressor(random_state=0)",
      "execution_count": null,
      "outputs": []
    },
    {
      "metadata": {
        "trusted": true,
        "_uuid": "34ca7b39ab074251cd40dd8f66c68c158cd4b169"
      },
      "cell_type": "code",
      "source": "model=regressor.fit(X_train,Y_train)",
      "execution_count": null,
      "outputs": []
    },
    {
      "metadata": {
        "trusted": true,
        "_uuid": "a241bb468b4807ae868d41c3a8aa58e13fc7e633"
      },
      "cell_type": "code",
      "source": "cross_val_score(model, X_train, Y_train, cv=6)",
      "execution_count": null,
      "outputs": []
    },
    {
      "metadata": {
        "trusted": true,
        "_uuid": "75ec5a04b16dd1fa693eeaf696e4ff6fea2c0ff6"
      },
      "cell_type": "code",
      "source": "cross_val_score(regressor, X_train, Y_train, cv=6)",
      "execution_count": null,
      "outputs": []
    },
    {
      "metadata": {
        "trusted": true,
        "_uuid": "58b8b75d04704cdad7d2141f755a194768b02495"
      },
      "cell_type": "code",
      "source": "predictions = cross_val_predict(model, X_test, Y_test, cv=6)\naccuracy = metrics.r2_score(Y_test, predictions)\nprint (\"Cross-Predicted Accuracy:\", accuracy)",
      "execution_count": null,
      "outputs": []
    },
    {
      "metadata": {
        "trusted": true,
        "_uuid": "1d46d831001330addb21b605e588b41027d97c01"
      },
      "cell_type": "code",
      "source": "predictions = model.predict(lr_test)\nprint(predictions)",
      "execution_count": null,
      "outputs": []
    },
    {
      "metadata": {
        "trusted": true,
        "_uuid": "826931894ea0b8e05f8db2a87a9ea0b0ea96002d"
      },
      "cell_type": "code",
      "source": "submission.Purchase=predictions\nsubmission.to_csv(\"submit_dt.csv\", index=False)",
      "execution_count": null,
      "outputs": []
    },
    {
      "metadata": {
        "trusted": true,
        "_uuid": "a2d90c4601011a0e9c0f9f9dd3c72320e9b21cae"
      },
      "cell_type": "code",
      "source": "from sklearn.ensemble import RandomForestRegressor",
      "execution_count": null,
      "outputs": []
    },
    {
      "metadata": {
        "trusted": true,
        "_uuid": "8f81129496c8de7cb27aa3ef38c34351b909d7a7"
      },
      "cell_type": "code",
      "source": "rf_regressor = RandomForestRegressor(random_state=0)",
      "execution_count": null,
      "outputs": []
    },
    {
      "metadata": {
        "trusted": true,
        "_uuid": "10091d3f50dbb598cde5ede65210b0f6a954b8cb"
      },
      "cell_type": "code",
      "source": "model=rf_regressor.fit(X_train,Y_train)",
      "execution_count": null,
      "outputs": []
    },
    {
      "metadata": {
        "trusted": true,
        "_uuid": "bb1ae65997b0d3bcb7a527aa22a63cac6d43d865"
      },
      "cell_type": "code",
      "source": "model",
      "execution_count": null,
      "outputs": []
    },
    {
      "metadata": {
        "trusted": true,
        "_uuid": "369e953a4f9aec9aac38d3a044ad28ee5dc5c3fc"
      },
      "cell_type": "code",
      "source": "cross_val_score(model, X_train, Y_train, cv=6)",
      "execution_count": null,
      "outputs": []
    },
    {
      "metadata": {
        "trusted": true,
        "_uuid": "9e792b854c334aa984de5ab8943f7cc6a58665a6"
      },
      "cell_type": "code",
      "source": "predictions = cross_val_predict(model, X_test, Y_test, cv=6)\naccuracy = metrics.r2_score(Y_test, predictions)\nprint (\"Cross-Predicted Accuracy:\", accuracy)",
      "execution_count": null,
      "outputs": []
    },
    {
      "metadata": {
        "trusted": true,
        "_uuid": "06b996cb114bd0eee76a9a7843ea45325d6eb543"
      },
      "cell_type": "code",
      "source": "predictions = model.predict(lr_test)\nprint(predictions)",
      "execution_count": null,
      "outputs": []
    },
    {
      "metadata": {
        "trusted": true,
        "_uuid": "2314592b0fe54f297a5f73ecdb44b7ab54f7c22f"
      },
      "cell_type": "code",
      "source": "submission.Purchase=predictions\nsubmission.to_csv(\"submit_rf.csv\", index=False)",
      "execution_count": null,
      "outputs": []
    },
    {
      "metadata": {
        "trusted": true,
        "_uuid": "e377ecfb53497e86233afd736552e07d095888ed"
      },
      "cell_type": "code",
      "source": "",
      "execution_count": null,
      "outputs": []
    }
  ],
  "metadata": {
    "kernelspec": {
      "display_name": "Python 3",
      "language": "python",
      "name": "python3"
    },
    "language_info": {
      "name": "python",
      "version": "3.6.6",
      "mimetype": "text/x-python",
      "codemirror_mode": {
        "name": "ipython",
        "version": 3
      },
      "pygments_lexer": "ipython3",
      "nbconvert_exporter": "python",
      "file_extension": ".py"
    }
  },
  "nbformat": 4,
  "nbformat_minor": 1
}